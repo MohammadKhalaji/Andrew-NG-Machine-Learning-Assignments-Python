{
 "cells": [
  {
   "cell_type": "markdown",
   "metadata": {
    "collapsed": true
   },
   "source": [
    "# Assignment 3: Linear Regression"
   ]
  },
  {
   "cell_type": "markdown",
   "metadata": {},
   "source": [
    "# One variable"
   ]
  },
  {
   "cell_type": "markdown",
   "metadata": {},
   "source": [
    "Module imports"
   ]
  },
  {
   "cell_type": "code",
   "execution_count": 1,
   "metadata": {},
   "outputs": [],
   "source": [
    "import numpy as np\n",
    "import matplotlib.pyplot as plt\n",
    "from sklearn.linear_model import LinearRegression"
   ]
  },
  {
   "cell_type": "markdown",
   "metadata": {},
   "source": [
    "Function to read the file and return X, y, no. of training data and no. of features"
   ]
  },
  {
   "cell_type": "code",
   "execution_count": 2,
   "metadata": {},
   "outputs": [],
   "source": [
    "def read_file(file_name, delimiter):\n",
    "    points = np.loadtxt(file_name, delimiter=delimiter)\n",
    "    m = points.shape[0]\n",
    "    n = points.shape[1] - 1 # no. of features\n",
    "    X = points[..., 0:n]\n",
    "    y = points[..., n:]\n",
    "    return X, y, m, n"
   ]
  },
  {
   "cell_type": "markdown",
   "metadata": {},
   "source": [
    "Functions needed to implement gradient descent"
   ]
  },
  {
   "cell_type": "code",
   "execution_count": 3,
   "metadata": {},
   "outputs": [],
   "source": [
    "def cost(X, y, theta):\n",
    "    # cost = (1/2m) ((Xtheta- y)T * (Xtheta - y))\n",
    "    m = X.shape[0]\n",
    "    ans = np.matmul(X, theta)\n",
    "    ans = ans - y\n",
    "    ans = np.matmul(ans.T, ans)\n",
    "    return (1 / (2 * m)) * ans\n",
    "\n",
    "def gradient(X, y, theta):\n",
    "    # gradient = (1/m) * ((XT) * (Xtheta - y))\n",
    "    ans = np.matmul(X, theta) - y\n",
    "    ans = np.matmul(X.T, ans)\n",
    "    m = X.shape[0]\n",
    "    return (1 / m) * ans\n",
    "\n",
    "def gradient_descent(X, y, theta, iters=1500, alpha=0.01):\n",
    "    for i in range(iters):\n",
    "        theta = theta - alpha * gradient(X, y, theta)\n",
    "    return theta"
   ]
  },
  {
   "cell_type": "markdown",
   "metadata": {},
   "source": [
    "## Method 1: Gradient descent"
   ]
  },
  {
   "cell_type": "code",
   "execution_count": 4,
   "metadata": {},
   "outputs": [],
   "source": [
    "# in order to run gradient descent, we need to add a x0 feature to features matrix \n",
    "# it is a column with all values equal to 1\n",
    "\n",
    "X, y, m, n = read_file('ex1data1.txt', ',')\n",
    "\n",
    "x0s = np.ones((m, 1))\n",
    "gd_X = np.append(x0s, X, axis=1)\n",
    "\n",
    "# now we have n+1 features:\n",
    "theta = np.zeros((n+1, 1))\n",
    "\n",
    "theta = gradient_descent(gd_X, y, theta)"
   ]
  },
  {
   "cell_type": "markdown",
   "metadata": {},
   "source": [
    "### Gradient Descent - Plot"
   ]
  },
  {
   "cell_type": "code",
   "execution_count": 5,
   "metadata": {},
   "outputs": [
    {
     "data": {
      "image/png": "[encoded data removed]",
      "text/plain": [
       "<Figure size 432x288 with 1 Axes>"
      ]
     },
     "metadata": {},
     "output_type": "display_data"
    }
   ],
   "source": [
    "x_min, x_max = X[..., 0].ravel().min(), X[..., 0].ravel().max()\n",
    "y_min, y_max = y[..., 0].ravel().min(), y[..., 0].ravel().max()\n",
    "plt.xlim(x_min - 3, x_max + 3)\n",
    "plt.ylim(y_min - 3, y_max + 3)\n",
    "plt.title('Gradient descent linear regression')\n",
    "\n",
    "# scatter the points\n",
    "plt.scatter(X[..., 0].ravel(), y[..., 0].ravel(), c='r')\n",
    "\n",
    "# plot the line\n",
    "# 1s are added as x0\n",
    "xs = [x_min, x_max]\n",
    "ys = [np.dot([1, x_min], theta), np.dot([1, x_max], theta)]\n",
    "plt.plot(xs, ys, c='b')\n",
    "plt.show()"
   ]
  },
  {
   "cell_type": "markdown",
   "metadata": {},
   "source": [
    "## Method 2: Scikit learn"
   ]
  },
  {
   "cell_type": "code",
   "execution_count": 6,
   "metadata": {},
   "outputs": [
    {
     "data": {
      "text/plain": [
       "LinearRegression(copy_X=True, fit_intercept=True, n_jobs=1, normalize=False)"
      ]
     },
     "execution_count": 6,
     "metadata": {},
     "output_type": "execute_result"
    }
   ],
   "source": [
    "regressor = LinearRegression()\n",
    "regressor.fit(X, y)"
   ]
  },
  {
   "cell_type": "markdown",
   "metadata": {},
   "source": [
    "### Scikit learn - Plot"
   ]
  },
  {
   "cell_type": "code",
   "execution_count": 7,
   "metadata": {},
   "outputs": [
    {
     "data": {
      "image/png": "[encoded data removed]",
      "text/plain": [
       "<Figure size 432x288 with 1 Axes>"
      ]
     },
     "metadata": {},
     "output_type": "display_data"
    }
   ],
   "source": [
    "plt.xlim(x_min - 3, x_max + 3)\n",
    "plt.ylim(y_min - 3, y_max + 3)\n",
    "plt.title('Scikit linear regression')\n",
    "\n",
    "# scatter the points\n",
    "plt.scatter(X[..., 0].ravel(), y[..., 0].ravel(), c='r')\n",
    "\n",
    "# plot the line\n",
    "# 1s are added as x0\n",
    "xs = [x_min, x_max]\n",
    "ys = [regressor.predict(x_min)[0][0], regressor.predict(x_max)[0][0]]\n",
    "plt.plot(xs, ys, c='b')\n",
    "plt.show()"
   ]
  }
 ],
 "metadata": {
  "kernelspec": {
   "display_name": "Python 3",
   "language": "python",
   "name": "python3"
  },
  "language_info": {
   "codemirror_mode": {
    "name": "ipython",
    "version": 3
   },
   "file_extension": ".py",
   "mimetype": "text/x-python",
   "name": "python",
   "nbconvert_exporter": "python",
   "pygments_lexer": "ipython3",
   "version": "3.6.5"
  }
 },
 "nbformat": 4,
 "nbformat_minor": 1
}
