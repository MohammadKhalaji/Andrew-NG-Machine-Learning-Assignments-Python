{
 "cells": [
  {
   "cell_type": "markdown",
   "metadata": {},
   "source": [
    "# Assignment 5 : Reglarized Linear Regression and Bias vs. Variance"
   ]
  },
  {
   "cell_type": "markdown",
   "metadata": {},
   "source": [
    "Module imports"
   ]
  },
  {
   "cell_type": "code",
   "execution_count": 1,
   "metadata": {},
   "outputs": [],
   "source": [
    "import matplotlib.pyplot as plt\n",
    "import numpy as np\n",
    "from scipy.optimize import minimize, fmin_cg\n",
    "import scipy.io as sio\n",
    "import statistics as stats"
   ]
  },
  {
   "cell_type": "markdown",
   "metadata": {},
   "source": [
    "Load input data:"
   ]
  },
  {
   "cell_type": "code",
   "execution_count": 2,
   "metadata": {},
   "outputs": [],
   "source": [
    "file_name = 'ex5data1.mat'\n",
    "\n",
    "def read_file(file_name):\n",
    "    data = sio.loadmat(file_name)\n",
    "\n",
    "    # training set\n",
    "    X, y = data['X'], data['y']\n",
    "\n",
    "    # test set\n",
    "    X_test, y_test = data['Xtest'], data['ytest']\n",
    "\n",
    "    # cross-validation set\n",
    "    X_CV, y_CV = data['Xval'], data['yval']\n",
    "\n",
    "\n",
    "    m, n = X.shape[0], X.shape[1]\n",
    "    m_test = X_test.shape[0]\n",
    "    m_CV = X_CV.shape[0]\n",
    "    \n",
    "    return X, y, X_test, y_test, X_CV, y_CV, m, n, m_test, m_CV"
   ]
  },
  {
   "cell_type": "markdown",
   "metadata": {},
   "source": [
    "Plotting the training data:"
   ]
  },
  {
   "cell_type": "code",
   "execution_count": 3,
   "metadata": {},
   "outputs": [
    {
     "data": {
      "image/png": "[encoded data removed]",
      "text/plain": [
       "<Figure size 432x288 with 1 Axes>"
      ]
     },
     "metadata": {},
     "output_type": "display_data"
    }
   ],
   "source": [
    "X, y, X_test, y_test, X_CV, y_CV, m, n, m_test, m_CV = read_file('ex5data1.mat')\n",
    "plt.scatter(X.flatten(), y.flatten(), c='r')\n",
    "plt.xlabel('Change in water level (X)')\n",
    "plt.ylabel('Water flowing out of the dam (y)')\n",
    "plt.show()"
   ]
  },
  {
   "cell_type": "markdown",
   "metadata": {},
   "source": [
    "## Regularized Linear Regression"
   ]
  },
  {
   "cell_type": "markdown",
   "metadata": {},
   "source": [
    "Reglarized Linear Regression methods:"
   ]
  },
  {
   "cell_type": "code",
   "execution_count": 4,
   "metadata": {},
   "outputs": [],
   "source": [
    "def cost(theta, X, y, lmd):\n",
    "    m = X.shape[0]\n",
    "    bias = np.ones((m, 1))\n",
    "    X = np.append(bias, X, axis=1)\n",
    "    theta = theta.reshape((theta.size, 1))\n",
    "    \n",
    "    # Not regularized yet\n",
    "    ans = np.matmul(X, theta)\n",
    "    ans = ans - y\n",
    "    ans = np.matmul(ans.T, ans)\n",
    "    ans = (1 / (2 * m)) * ans\n",
    "    \n",
    "    \n",
    "    # Regularization term\n",
    "    reg = np.matmul(theta[1:, ...].T, theta[1:, ...])\n",
    "    reg = (lmd / (2 * m)) * reg\n",
    "    \n",
    "    return (ans + reg).flatten()[0]\n",
    "\n",
    "\n",
    "def gradient(theta, X, y, lmd):\n",
    "    m = X.shape[0]\n",
    "    bias = np.ones((m, 1))\n",
    "    X = np.append(bias, X, axis=1)\n",
    "    \n",
    "    theta = theta.reshape((theta.size, 1))\n",
    "    \n",
    "    # Not regularized yet\n",
    "    grad = np.matmul(X, theta)\n",
    "    grad = np.matmul(X.T, grad - y)\n",
    "    grad = (1 / m) * grad\n",
    "    \n",
    "    # Regularization term\n",
    "    reg = theta[1:, ...]\n",
    "    reg = (lmd / m) * reg\n",
    "    reg = reg.flatten()\n",
    "    reg = np.insert(reg, 0, theta[0][0])\n",
    "    reg = reg.reshape(theta.shape)\n",
    "    \n",
    "    return (grad + reg).flatten()"
   ]
  },
  {
   "cell_type": "markdown",
   "metadata": {},
   "source": [
    "Fitting a linear function without regularization"
   ]
  },
  {
   "cell_type": "code",
   "execution_count": 5,
   "metadata": {},
   "outputs": [
    {
     "name": "stdout",
     "output_type": "stream",
     "text": [
      "CG Cost:  43.78043590516538\n",
      "Nelder-Mead Cost:  22.37390649553841\n"
     ]
    }
   ],
   "source": [
    "theta = np.zeros((1, n+1)).flatten()\n",
    "lmd = 0\n",
    "theta1 = minimize(method='CG', fun=cost, jac=gradient, args=(X, y, lmd), x0=theta).x\n",
    "theta2 = minimize(method='Nelder-Mead', fun=cost, args=(X, y, lmd), x0=theta).x\n",
    "print('CG Cost: ', cost(theta1, X, y, 0))\n",
    "print('Nelder-Mead Cost: ', cost(theta2, X, y, 0))"
   ]
  },
  {
   "cell_type": "markdown",
   "metadata": {},
   "source": [
    "Which one is minimum?!\n",
    "CG method gets stuck somewhere"
   ]
  },
  {
   "cell_type": "code",
   "execution_count": 6,
   "metadata": {},
   "outputs": [],
   "source": [
    "theta = theta2"
   ]
  },
  {
   "cell_type": "markdown",
   "metadata": {},
   "source": [
    "Plotting the linear fit:"
   ]
  },
  {
   "cell_type": "code",
   "execution_count": 7,
   "metadata": {},
   "outputs": [
    {
     "data": {
      "image/png": "[encoded data removed]",
      "text/plain": [
       "<Figure size 432x288 with 1 Axes>"
      ]
     },
     "metadata": {},
     "output_type": "display_data"
    }
   ],
   "source": [
    "def h(x, theta, m, n):\n",
    "    theta = theta.reshape((n+1, 1))\n",
    "    x = x.reshape((n, 1))\n",
    "    bias = np.array([[1]])\n",
    "    x = np.append(bias, x).reshape((n+1, 1))\n",
    "    return np.matmul(theta.T, x).flatten()[0]\n",
    "\n",
    "plt.scatter(X.flatten(), y.flatten(), c='r')\n",
    "plt.xlabel('Change in water level (X)')\n",
    "plt.ylabel('Water flowing out of the dam (y)')\n",
    "x_min, x_max = min(X.flatten()), max(X.flatten())\n",
    "x_arr = np.arange(x_min, x_max, 0.1)\n",
    "y_arr = []\n",
    "for x1 in x_arr:\n",
    "    y_arr.append(h(x1, theta, m, n))\n",
    "plt.plot(x_arr, y_arr, c='b')\n",
    "plt.show()"
   ]
  },
  {
   "cell_type": "markdown",
   "metadata": {},
   "source": [
    "## Learning Curves"
   ]
  },
  {
   "cell_type": "code",
   "execution_count": 8,
   "metadata": {},
   "outputs": [
    {
     "data": {
      "image/png": "[encoded data removed]",
      "text/plain": [
       "<Figure size 432x288 with 1 Axes>"
      ]
     },
     "metadata": {},
     "output_type": "display_data"
    }
   ],
   "source": [
    "# getting a fit line for each number of training data and storing CV errors and train errors\n",
    "tr_x = [] # training error x vals\n",
    "tr_y = [] # training error y vals\n",
    "cv_x = [] # cross validation error x vals\n",
    "cv_y = [] # cross validation error y vals\n",
    "lmd = 0\n",
    "\n",
    "for i in range(1, m+1):\n",
    "    tr_x.append(i)\n",
    "    cv_x.append(i)\n",
    "    my_X = X[0:i, ...]\n",
    "    my_y = y[0:i, ...]\n",
    "    my_theta = np.zeros((n, 1))\n",
    "    my_theta = minimize(method='Nelder-Mead', fun=cost, args=(my_X, my_y, lmd), x0=theta).x\n",
    "    tr_y.append(cost(my_theta, my_X, my_y, 0))\n",
    "    cv_y.append(cost(my_theta, X_CV, y_CV, 0))\n",
    "\n",
    "plt.plot(tr_x, tr_y, label='Training error')\n",
    "plt.plot(cv_x, cv_y, label='Cross-Validation error')\n",
    "plt.xlabel('Number of training examples')\n",
    "plt.ylabel('Error')\n",
    "plt.legend()\n",
    "plt.show()\n",
    "\n",
    "    \n",
    "    "
   ]
  },
  {
   "cell_type": "markdown",
   "metadata": {},
   "source": [
    "## Polynomial Regression"
   ]
  },
  {
   "cell_type": "code",
   "execution_count": 9,
   "metadata": {},
   "outputs": [],
   "source": [
    "def normalize_features(X):\n",
    "    X = X.T\n",
    "    for i in range(X.shape[0]):\n",
    "        mean = stats.mean(X[i])\n",
    "        stdev = stats.stdev(X[i])\n",
    "        X[i] = (X[i] - mean) / stdev\n",
    "        \n",
    "    # in this example we have only one column of X, so we have only one mean and one stdev\n",
    "    return X.T, mean, stdev\n",
    "\n",
    "def map_features(X, degree):\n",
    "    res = []\n",
    "    m = X.shape[0]\n",
    "    for i in range(m):\n",
    "        cur = []\n",
    "        for j in range(1, degree+1):\n",
    "            # discard the 0 power (bias)\n",
    "            cur.append(X[i][0] ** j)\n",
    "        res.append(cur)\n",
    "    return np.array(res)\n",
    "\n",
    "def map_single_feature(x1, degree):\n",
    "    res = []\n",
    "    for i in range(1, degree+1):\n",
    "        res.append(x1**i)\n",
    "    arr = np.array(res)\n",
    "    return arr.reshape((arr.size, 1))"
   ]
  },
  {
   "cell_type": "code",
   "execution_count": 10,
   "metadata": {},
   "outputs": [
    {
     "name": "stdout",
     "output_type": "stream",
     "text": [
      "Warning: Desired error not necessarily achieved due to precision loss.\n",
      "         Current function value: 1.372372\n",
      "         Iterations: 12\n",
      "         Function evaluations: 68\n",
      "         Gradient evaluations: 56\n"
     ]
    }
   ],
   "source": [
    "X, y, X_test, y_test, X_CV, y_CV, m, n, m_test, m_CV = read_file('ex5data1.mat')\n",
    "\n",
    "# before normalizing and polynomial mapping\n",
    "original_X = read_file('ex5data1.mat')[0]\n",
    "\n",
    "X, mean, stdev = normalize_features(X)\n",
    "degree = 8\n",
    "X = map_features(X, degree)\n",
    "lmd = 0\n",
    "theta = np.zeros((degree+1, 1)).flatten()\n",
    "theta = minimize(method='CG', fun=cost, jac=gradient, x0=theta, args=(X, y, lmd), options={'disp': True}).x"
   ]
  },
  {
   "cell_type": "code",
   "execution_count": 11,
   "metadata": {
    "scrolled": false
   },
   "outputs": [
    {
     "data": {
      "image/png": "[encoded data removed]",
      "text/plain": [
       "<Figure size 432x288 with 1 Axes>"
      ]
     },
     "metadata": {},
     "output_type": "display_data"
    }
   ],
   "source": [
    "plt.scatter(original_X.flatten(), y.flatten(), c='r')\n",
    "plt.xlabel('Change in water level (X)')\n",
    "plt.ylabel('Water flowing out of the dam (y)')\n",
    "x_min, x_max = min(original_X.flatten()) - 5, max(original_X.flatten()) + 5\n",
    "x_arr = np.arange(x_min, x_max, 0.1)\n",
    "y_arr = []\n",
    "for x1 in x_arr:\n",
    "    # normalize:\n",
    "    x1 = (x1 - mean) / stdev\n",
    "    x1 = map_single_feature(x1, degree)\n",
    "    y_arr.append(h(x1, theta, m, degree))\n",
    "plt.plot(x_arr, y_arr, c='b')\n",
    "plt.show()"
   ]
  },
  {
   "cell_type": "code",
   "execution_count": 12,
   "metadata": {},
   "outputs": [
    {
     "data": {
      "image/png": "[encoded data removed]",
      "text/plain": [
       "<Figure size 432x288 with 1 Axes>"
      ]
     },
     "metadata": {},
     "output_type": "display_data"
    }
   ],
   "source": [
    "tr_x = [] # training error x vals\n",
    "tr_y = [] # training error y vals\n",
    "cv_x = [] # cross validation error x vals\n",
    "cv_y = [] # cross validation error y vals\n",
    "lmd = 0\n",
    "\n",
    "X_CV, mean, stdev = normalize_features(X_CV)\n",
    "X_CV = map_features(X_CV, degree)\n",
    "degree = 8\n",
    "\n",
    "for i in range(1, m+1):\n",
    "    tr_x.append(i)\n",
    "    cv_x.append(i)\n",
    "    mytheta = np.zeros((degree+1, 1)).flatten()\n",
    "    mytheta = minimize(method='CG', fun=cost, jac=gradient, x0=mytheta, args=(X[0:i, ...], y[0:i, ...], lmd)).x\n",
    "    tr_y.append(cost(mytheta, X[0:i, ...], y[0:i], 0))\n",
    "    cv_y.append(cost(mytheta, X_CV, y_CV, 0))\n",
    "    \n",
    "plt.plot(tr_x, tr_y, label='Training error')\n",
    "plt.plot(cv_x, cv_y, label='Cross-Validation error')\n",
    "plt.xlabel('Number of training examples')\n",
    "plt.ylabel('Error')\n",
    "plt.legend()\n",
    "    \n",
    "plt.show()"
   ]
  },
  {
   "cell_type": "code",
   "execution_count": null,
   "metadata": {},
   "outputs": [],
   "source": []
  }
 ],
 "metadata": {
  "kernelspec": {
   "display_name": "Python 3",
   "language": "python",
   "name": "python3"
  },
  "language_info": {
   "codemirror_mode": {
    "name": "ipython",
    "version": 3
   },
   "file_extension": ".py",
   "mimetype": "text/x-python",
   "name": "python",
   "nbconvert_exporter": "python",
   "pygments_lexer": "ipython3",
   "version": "3.6.5"
  }
 },
 "nbformat": 4,
 "nbformat_minor": 2
}
