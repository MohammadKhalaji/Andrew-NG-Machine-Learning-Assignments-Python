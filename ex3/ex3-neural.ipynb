{
 "cells": [
  {
   "cell_type": "markdown",
   "metadata": {},
   "source": [
    "# Assignment 3: Neural networks"
   ]
  },
  {
   "cell_type": "markdown",
   "metadata": {},
   "source": [
    "Module imports:"
   ]
  },
  {
   "cell_type": "code",
   "execution_count": 1,
   "metadata": {},
   "outputs": [],
   "source": [
    "import numpy as np\n",
    "import scipy.io as sio"
   ]
  },
  {
   "cell_type": "markdown",
   "metadata": {},
   "source": [
    "Code to read the weights and dataset from the files:"
   ]
  },
  {
   "cell_type": "code",
   "execution_count": 2,
   "metadata": {},
   "outputs": [],
   "source": [
    "def read_weights(file_name):\n",
    "    data = sio.loadmat(file_name)\n",
    "    return data['Theta1'], data['Theta2']\n",
    "\n",
    "def read_file(file_name):\n",
    "    data = sio.loadmat(file_name)\n",
    "    X = data['X']\n",
    "    m = X.shape[0]\n",
    "    y = data['y']\n",
    "    y = np.array(y).reshape(m, 1)\n",
    "    return X, y"
   ]
  },
  {
   "cell_type": "markdown",
   "metadata": {},
   "source": [
    "Computing accuracy of the given weights:"
   ]
  },
  {
   "cell_type": "code",
   "execution_count": 3,
   "metadata": {},
   "outputs": [
    {
     "name": "stdout",
     "output_type": "stream",
     "text": [
      "Accuracy = %97.52\n"
     ]
    }
   ],
   "source": [
    "def sigmoid(z):\n",
    "    return 1 / (1 + np.exp(-z))\n",
    "\n",
    "Theta1, Theta2 = read_weights('ex3weights.mat')\n",
    "X, y = read_file('ex3data1.mat')\n",
    "Thetas = [Theta1, Theta2]\n",
    "\n",
    "corrects = 0\n",
    "m = X.shape[0]\n",
    "\n",
    "\n",
    "for i in range(m):\n",
    "    x = X[i]\n",
    "    bias = np.array([1])\n",
    "    biased_x = np.append(bias, x)\n",
    "    cur_vector = biased_x\n",
    "    for Theta in Thetas:\n",
    "        z = np.matmul(Theta, cur_vector)\n",
    "        a = sigmoid(z)\n",
    "        biased_a = np.append(bias, a)\n",
    "        cur_vector = biased_a\n",
    "    \n",
    "    # now a is the final vector of last layer\n",
    "    # to sync with matlab indexing system, we add a -1 in the beginning of the a\n",
    "    # so 0 is indexed with 10 and 1 <= i <=9 are indexed with i\n",
    "    a = list(a.ravel())\n",
    "    a.insert(0, -1)\n",
    "    max_index = a.index(max(a))\n",
    "    \n",
    "    if max_index == y[i]:\n",
    "        corrects += 1\n",
    "        \n",
    "print('Accuracy = %{0}'.format(100 * corrects / m))\n",
    "        "
   ]
  }
 ],
 "metadata": {
  "kernelspec": {
   "display_name": "Python 3",
   "language": "python",
   "name": "python3"
  },
  "language_info": {
   "codemirror_mode": {
    "name": "ipython",
    "version": 3
   },
   "file_extension": ".py",
   "mimetype": "text/x-python",
   "name": "python",
   "nbconvert_exporter": "python",
   "pygments_lexer": "ipython3",
   "version": "3.6.5"
  }
 },
 "nbformat": 4,
 "nbformat_minor": 2
}
