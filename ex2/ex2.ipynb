{
 "cells": [
  {
   "cell_type": "markdown",
   "metadata": {},
   "source": [
    "# Assignment 2"
   ]
  },
  {
   "cell_type": "markdown",
   "metadata": {},
   "source": [
    "# Logistic Regression"
   ]
  },
  {
   "cell_type": "markdown",
   "metadata": {},
   "source": [
    "## Part 0: Useful imports and methods"
   ]
  },
  {
   "cell_type": "code",
   "execution_count": 1,
   "metadata": {},
   "outputs": [],
   "source": [
    "import numpy as np\n",
    "import matplotlib.pyplot as plt\n",
    "from scipy.optimize import minimize\n",
    "from sklearn.linear_model import LogisticRegression\n",
    "from sklearn.preprocessing import PolynomialFeatures"
   ]
  },
  {
   "cell_type": "code",
   "execution_count": 2,
   "metadata": {},
   "outputs": [],
   "source": [
    "def read_file(file_name, delimiter=','):\n",
    "    points = np.loadtxt(file_name, delimiter=delimiter)\n",
    "    m = points.shape[0]\n",
    "    n = points.shape[1] - 1\n",
    "    return points[..., 0:n], points[..., n:], m, n\n",
    "\n",
    "def sigmoid(z):\n",
    "    return 1 / (1 + np.exp(-z))\n",
    "\n",
    "def h(X, theta):\n",
    "    # X is a matrix and theta is a vector\n",
    "    return sigmoid(np.matmul(X, theta))\n",
    "\n",
    "def single_h(x, theta):\n",
    "    # x and theta are both vectors\n",
    "    return sigmoid(np.matmul(theta.T, x))\n",
    "\n",
    "def predict(x, theta):\n",
    "    if single_h(x, theta) >= 0.5:\n",
    "        return 1\n",
    "    return 0\n",
    "\n",
    "# cost function, if lmd (lambda) is passed nonzero when calling, it will get the regularized cost function\n",
    "def cost(X, y, theta, lmd=0):\n",
    "    n = X.shape[1]\n",
    "    m = X.shape[0]\n",
    "    theta = theta.reshape((n, 1))\n",
    "    # we do not penalize theta0\n",
    "    penalize = np.matmul(theta.T, theta) - theta[0][0]**2\n",
    "    ans = np.matmul(y.T, np.log(h(X, theta))) + np.matmul((1 - y).T, np.log(1 - h(X, theta)))\n",
    "    ans = ans * (-1 / m)\n",
    "    ans += (lmd / (2 * m)) * penalize\n",
    "    return ans\n",
    "\n",
    "def get_accuracy(X, theta, y):\n",
    "    n = X.shape[1]\n",
    "    m = X.shape[0]\n",
    "    corrects = 0\n",
    "    for i in range(0, m):\n",
    "        x = np.array([X[i]]).T\n",
    "        prediction = predict(x, theta)\n",
    "    \n",
    "        if prediction == y[i][0]:\n",
    "            corrects += 1\n",
    "    return (100 * corrects) / m\n",
    "    "
   ]
  },
  {
   "cell_type": "markdown",
   "metadata": {},
   "source": [
    "## Part 1: Not Regularized"
   ]
  },
  {
   "cell_type": "markdown",
   "metadata": {},
   "source": [
    "### Implementation"
   ]
  },
  {
   "cell_type": "code",
   "execution_count": 3,
   "metadata": {},
   "outputs": [],
   "source": [
    "# read the file:\n",
    "X, y, m, n = read_file('ex2data1.txt', ',')\n",
    "\n",
    "# add x0s\n",
    "# we wouldn't need to add x0s if we were working with scikit\n",
    "# NOTICE THAT X IS THE ORIGINAL DATA FROM THE FILE, AND my_X IS NEW MATRIX AFTER APPENDING x0S\n",
    "x0s = np.ones((m, 1))\n",
    "my_X = np.append(x0s, X, axis=1)\n",
    "\n",
    "# initialize theta:\n",
    "# why n+1? because of x0!\n",
    "theta = np.zeros((n+1, 1))\n",
    "\n",
    "# optimize:\n",
    "theta = minimize(lambda t: cost(my_X, y, t), theta, method='Nelder-Mead').x.reshape((n+1, 1))\n"
   ]
  },
  {
   "cell_type": "markdown",
   "metadata": {},
   "source": [
    "### Accuracy"
   ]
  },
  {
   "cell_type": "code",
   "execution_count": 4,
   "metadata": {},
   "outputs": [
    {
     "name": "stdout",
     "output_type": "stream",
     "text": [
      "Training accuracy: %89.0\n"
     ]
    }
   ],
   "source": [
    "print('Training accuracy: %{0}'.format(get_accuracy(my_X, theta, y)))"
   ]
  },
  {
   "cell_type": "markdown",
   "metadata": {},
   "source": [
    "### Plot"
   ]
  },
  {
   "cell_type": "code",
   "execution_count": 5,
   "metadata": {},
   "outputs": [
    {
     "data": {
      "image/png": "[encoded data removed]",
      "text/plain": [
       "<Figure size 432x288 with 1 Axes>"
      ]
     },
     "metadata": {},
     "output_type": "display_data"
    }
   ],
   "source": [
    "plt.xlabel('Exam 1 Score')\n",
    "plt.ylabel('Exam 2 Score')\n",
    "plt.title('Logistic Regression - Not Regularized\\nNon-Polynomial Features  ')\n",
    "\n",
    "# plotting decision boundary:\n",
    "x_min, x_max = X[..., 0].min() - 1, X[..., 1].max() + 1\n",
    "y_min, y_max = X[..., 0].min() - 1, X[..., 1].max() + 1\n",
    "plt.xlim(x_min, x_max)\n",
    "plt.ylim(y_min, y_max)\n",
    "x_range = np.arange(x_min, x_max, 0.1)\n",
    "y_range = np.arange(y_min, y_max, 0.1)\n",
    "xx, yy = np.meshgrid(x_range, y_range)\n",
    "\n",
    "zz = np.zeros(xx.shape)\n",
    "for i in range(zz.shape[1]):\n",
    "    for j in range(zz.shape[1]):\n",
    "        x_vector = np.array([[1, xx[i][j], yy[i][j]]]).T\n",
    "        zz[i][j] = predict(x_vector, theta)\n",
    "        \n",
    "plt.pcolormesh(xx, yy, zz)\n",
    "\n",
    "\n",
    "# plotting the points:\n",
    "z_x = []\n",
    "z_y = []\n",
    "o_x = []\n",
    "o_y = []\n",
    "for i in range(0, X.shape[0]):\n",
    "    if y[i][0] == 1:\n",
    "        o_x.append(X[i][0])\n",
    "        o_y.append(X[i][1])\n",
    "    else:\n",
    "        z_x.append(X[i][0])\n",
    "        z_y.append(X[i][1])\n",
    "\n",
    "plt.scatter(o_x, o_y, marker='+', c='g', label='Admitted')\n",
    "plt.scatter(z_x, z_y, marker='.', c='r', label='Not Admitted')\n",
    "plt.legend()\n",
    "plt.show()"
   ]
  },
  {
   "cell_type": "markdown",
   "metadata": {},
   "source": [
    "## Part 2: Regularized, polynomial features"
   ]
  },
  {
   "cell_type": "markdown",
   "metadata": {},
   "source": [
    "### Implementation"
   ]
  },
  {
   "cell_type": "code",
   "execution_count": 6,
   "metadata": {},
   "outputs": [],
   "source": [
    "X, y, m, n = read_file('ex2data2.txt', ',')\n",
    "poly = PolynomialFeatures(degree=10)\n",
    "\n",
    "# before making features polynomial:\n",
    "original_X = X\n",
    "\n",
    "X = poly.fit_transform(X)\n",
    "\n",
    "# now we have new features:\n",
    "n = X.shape[1]\n",
    "\n",
    "# initialize theta:\n",
    "theta = np.zeros((n, 1))\n",
    "\n",
    "# optimize:\n",
    "overfit = minimize(lambda t: cost(X, y, t, lmd=0), theta, method='Nelder-Mead').x.reshape((n, 1))\n",
    "fit = minimize(lambda t: cost(X, y, t, lmd=1), theta, method='Nelder-Mead').x.reshape((n, 1))\n",
    "underfit = minimize(lambda t: cost(X, y, t, lmd=100), theta, method='Nelder-Mead').x.reshape((n, 1))"
   ]
  },
  {
   "cell_type": "markdown",
   "metadata": {},
   "source": [
    "### Accuracy"
   ]
  },
  {
   "cell_type": "code",
   "execution_count": 7,
   "metadata": {},
   "outputs": [
    {
     "name": "stdout",
     "output_type": "stream",
     "text": [
      "Overfit accuracy: %80.50847457627118\n",
      "Fit accuracy: %76.27118644067797\n",
      "Underfit accuracy: %66.94915254237289\n"
     ]
    }
   ],
   "source": [
    "print('Overfit accuracy: %{0}'.format(get_accuracy(X, overfit, y)))\n",
    "print('Fit accuracy: %{0}'.format(get_accuracy(X, fit, y)))\n",
    "print('Underfit accuracy: %{0}'.format(get_accuracy(X, underfit, y)))"
   ]
  },
  {
   "cell_type": "markdown",
   "metadata": {},
   "source": [
    "### Plot (fit answer)"
   ]
  },
  {
   "cell_type": "code",
   "execution_count": 8,
   "metadata": {},
   "outputs": [
    {
     "data": {
      "image/png": "[encoded data removed]",
      "text/plain": [
       "<Figure size 432x288 with 1 Axes>"
      ]
     },
     "metadata": {},
     "output_type": "display_data"
    }
   ],
   "source": [
    "plt.xlabel('Microchip Test 1')\n",
    "plt.ylabel('Microchip Test 2')\n",
    "plt.title('Logistic Regression - Regularized\\nPolynomial Features  ')\n",
    "\n",
    "# plotting decision boundary:\n",
    "x_min, x_max = original_X[..., 0].min() - 0.1, original_X[..., 1].max() + 0.1\n",
    "y_min, y_max = original_X[..., 0].min() - 0.1, original_X[..., 1].max() + 0.1\n",
    "plt.xlim(x_min, x_max)\n",
    "plt.ylim(y_min, y_max)\n",
    "x_range = np.arange(x_min, x_max, 0.01)\n",
    "y_range = np.arange(y_min, y_max, 0.01)\n",
    "xx, yy = np.meshgrid(x_range, y_range)\n",
    "\n",
    "zz = np.zeros(xx.shape)\n",
    "for i in range(zz.shape[1]):\n",
    "    for j in range(zz.shape[1]):\n",
    "        x_vector = np.array([[xx[i][j], yy[i][j]]])\n",
    "        x_vector = poly.fit_transform(x_vector).ravel()\n",
    "        x_vector = x_vector.reshape((n, 1))\n",
    "        zz[i][j] = predict(x_vector, fit)\n",
    "        \n",
    "plt.pcolormesh(xx, yy, zz)\n",
    "\n",
    "\n",
    "# plotting the points:\n",
    "z_x = []\n",
    "z_y = []\n",
    "o_x = []\n",
    "o_y = []\n",
    "for i in range(0, original_X.shape[0]):\n",
    "    if y[i][0] == 1:\n",
    "        o_x.append(original_X[i][0])\n",
    "        o_y.append(original_X[i][1])\n",
    "    else:\n",
    "        z_x.append(original_X[i][0])\n",
    "        z_y.append(original_X[i][1])\n",
    "\n",
    "plt.scatter(o_x, o_y, marker='+', c='g', label='y = 1')\n",
    "plt.scatter(z_x, z_y, marker='.', c='r', label='y = 0')\n",
    "plt.legend()\n",
    "plt.show()"
   ]
  }
 ],
 "metadata": {
  "kernelspec": {
   "display_name": "Python 3",
   "language": "python",
   "name": "python3"
  },
  "language_info": {
   "codemirror_mode": {
    "name": "ipython",
    "version": 3
   },
   "file_extension": ".py",
   "mimetype": "text/x-python",
   "name": "python",
   "nbconvert_exporter": "python",
   "pygments_lexer": "ipython3",
   "version": "3.6.5"
  }
 },
 "nbformat": 4,
 "nbformat_minor": 2
}
